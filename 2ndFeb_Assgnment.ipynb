{
 "cells": [
  {
   "cell_type": "code",
   "execution_count": 1,
   "id": "34aa0525-f186-4ac2-98dc-372a408725c8",
   "metadata": {},
   "outputs": [],
   "source": [
    "#Q1. Explain with an example each when to use a for loop and a while loop.\n",
    "##ANS: for loop and while loop used for repeat a specific block of code  "
   ]
  },
  {
   "cell_type": "code",
   "execution_count": 2,
   "id": "65776bd7-d2bc-4114-9ee2-f2e95867cb77",
   "metadata": {},
   "outputs": [],
   "source": [
    "#Q1_Example"
   ]
  },
  {
   "cell_type": "code",
   "execution_count": 22,
   "id": "6911051b-3091-48b3-a9a7-72a111f51693",
   "metadata": {
    "tags": []
   },
   "outputs": [
    {
     "data": {
      "text/plain": [
       "[0, 1, 2, 3, 4, 5, 6, 7, 8, 9]"
      ]
     },
     "execution_count": 22,
     "metadata": {},
     "output_type": "execute_result"
    }
   ],
   "source": [
    "list=[]\n",
    "for i in range(0,10):\n",
    "    list.append(i)\n",
    "list\n",
    "#create a empty list stored the number of range 0 to 10 using for loop and shows the specific block is range of 0 to 10 "
   ]
  },
  {
   "cell_type": "code",
   "execution_count": 24,
   "id": "fab87cdb-7ba6-4c9e-9f5f-9bc75e71e18d",
   "metadata": {},
   "outputs": [],
   "source": [
    "#Q2. Write a python program to print the sum and product of the first 10 natural numbers using for and while loop"
   ]
  },
  {
   "cell_type": "code",
   "execution_count": 31,
   "id": "a29a5eb3-7789-43e0-8fe9-298025fd3bb9",
   "metadata": {},
   "outputs": [
    {
     "name": "stdout",
     "output_type": "stream",
     "text": [
      "55\n"
     ]
    }
   ],
   "source": [
    "number = 0\n",
    "result= 0\n",
    "while number <= 10:\n",
    "    result=result+number\n",
    "    number = number + 1\n",
    "print(result)"
   ]
  },
  {
   "cell_type": "code",
   "execution_count": 1,
   "id": "082dcd56-d6ff-41c8-9cd8-52f00101970b",
   "metadata": {},
   "outputs": [],
   "source": [
    "#Q3 Create a python program to compute the electricity bill for a household."
   ]
  },
  {
   "cell_type": "code",
   "execution_count": 7,
   "id": "69b116ac-1e36-4666-ba89-373ab932545d",
   "metadata": {},
   "outputs": [
    {
     "name": "stdin",
     "output_type": "stream",
     "text": [
      "Enter the units of electricity consumed in a month 310\n"
     ]
    },
    {
     "name": "stdout",
     "output_type": "stream",
     "text": [
      "Your monthly consumtion 2250.0\n"
     ]
    }
   ],
   "source": [
    "unit_cosumtion=int(input(\"Enter the units of electricity consumed in a month\"))\n",
    "if(unit_cosumtion <= 100):\n",
    "    total_cosumtion=unit_cosumtion*4.5\n",
    "    print(\"Your monthly consumtion\",total_cosumtion)\n",
    "elif(unit_cosumtion <= 200):\n",
    "    total_cosumtion=(100*4.5)+((unit_cosumtion-100)*6)\n",
    "    print(\"Your monthly consumtion\",total_cosumtion)\n",
    "elif(unit_cosumtion <= 300):\n",
    "    total_cosumtion=(100*4.5)+(100*6)+((unit_cosumtion-200)*10)\n",
    "    print(\"Your monthly consumtion\",total_cosumtion)\n",
    "elif(unit_cosumtion >= 300):\n",
    "    total_cosumtion=(100*4.5)+(100*6)+(100*10)+((unit_cosumtion-300)*20)\n",
    "    print(\"Your monthly consumtion\",total_cosumtion)"
   ]
  },
  {
   "cell_type": "code",
   "execution_count": null,
   "id": "4b1b4998-ae2f-4160-94af-d1b6cb0cca41",
   "metadata": {},
   "outputs": [],
   "source": [
    "# Q4 Create a list of numbers from 1 to 100. Use for loop and while loop to calculate the cube of each\n",
    "# number and if the cube of that number is divisible by 4 or 5 then append that number in a list and print\n",
    "# that list."
   ]
  },
  {
   "cell_type": "code",
   "execution_count": null,
   "id": "e8f918f5-0085-4cf6-91de-0fc9832f9637",
   "metadata": {},
   "outputs": [
    {
     "name": "stdout",
     "output_type": "stream",
     "text": [
      "[0, 8, 64, 125, 216, 512, 1000, 1728, 2744, 3375, 4096, 5832, 8000, 10648, 13824, 15625, 17576, 21952, 27000, 32768, 39304, 42875, 46656, 54872, 64000, 74088, 85184, 91125, 97336, 110592, 125000, 140608, 157464, 166375, 175616, 195112, 216000, 238328, 262144, 274625, 287496, 314432, 343000, 373248, 405224, 421875, 438976, 474552, 512000, 551368, 592704, 614125, 636056, 681472, 729000, 778688, 830584, 857375, 884736, 941192]\n"
     ]
    }
   ],
   "source": [
    "#Ans\n",
    "list=[]\n",
    "for i in range(100):\n",
    "    cube=i*i*i\n",
    "    if(cube%4 == 0 or cube%5 == 0):\n",
    "        list.append(cube)\n",
    "print(list)"
   ]
  },
  {
   "cell_type": "code",
   "execution_count": 33,
   "id": "646ee94b-69e3-441b-939f-17e1ce74c8ef",
   "metadata": {},
   "outputs": [],
   "source": [
    "#Q5. Write a program to filter count vowels in the below-given string. \n",
    "#string = \"I want to become a data scientist\""
   ]
  },
  {
   "cell_type": "code",
   "execution_count": 37,
   "id": "5cf6f90b-ff78-45bf-9a45-c978ca3c4787",
   "metadata": {},
   "outputs": [
    {
     "name": "stdout",
     "output_type": "stream",
     "text": [
      "Number of Vowels :  12\n"
     ]
    }
   ],
   "source": [
    "#ANS\n",
    "string = \"I want to become a data scientist\"\n",
    "volwel=set(\"aeiouAEIOU\")\n",
    "number_of_vowels=0\n",
    "for str in string:\n",
    "    if str in volwel:\n",
    "        number_of_vowels=number_of_vowels+1\n",
    "print(\"Number of Vowels : \",number_of_vowels)"
   ]
  },
  {
   "cell_type": "code",
   "execution_count": null,
   "id": "987a88a7-d0ef-47be-a710-415a5f9d745a",
   "metadata": {},
   "outputs": [],
   "source": []
  }
 ],
 "metadata": {
  "kernelspec": {
   "display_name": "Python 3 (ipykernel)",
   "language": "python",
   "name": "python3"
  },
  "language_info": {
   "codemirror_mode": {
    "name": "ipython",
    "version": 3
   },
   "file_extension": ".py",
   "mimetype": "text/x-python",
   "name": "python",
   "nbconvert_exporter": "python",
   "pygments_lexer": "ipython3",
   "version": "3.10.8"
  }
 },
 "nbformat": 4,
 "nbformat_minor": 5
}
