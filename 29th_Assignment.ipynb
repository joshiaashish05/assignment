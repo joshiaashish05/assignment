{
 "cells": [
  {
   "cell_type": "code",
   "execution_count": 5,
   "id": "9d959a27-69f9-4109-9b2d-b3a8441b8153",
   "metadata": {},
   "outputs": [],
   "source": [
    "Q1_answer= \"Guido van Rossum\"\n"
   ]
  },
  {
   "cell_type": "code",
   "execution_count": 6,
   "id": "ded200d0-8d0c-44f4-aa06-067f01d991ac",
   "metadata": {},
   "outputs": [],
   "source": [
    "Q2_answer=\"Object-oriented programming and structured programming\""
   ]
  },
  {
   "cell_type": "code",
   "execution_count": 7,
   "id": "15e28be7-3aab-4f32-bad0-e703776533e7",
   "metadata": {},
   "outputs": [],
   "source": [
    "Q3_answer=\"Yes,Python case sensitive\""
   ]
  },
  {
   "cell_type": "code",
   "execution_count": 8,
   "id": "16f29345-d49b-40dd-9791-a542a980ec60",
   "metadata": {},
   "outputs": [],
   "source": [
    "Q4_answer=\".py\""
   ]
  },
  {
   "cell_type": "code",
   "execution_count": 9,
   "id": "14a71f4c-10c1-4d44-88a8-be5bbd30fdad",
   "metadata": {},
   "outputs": [],
   "source": [
    "Q5_answer=\"interpreted language\""
   ]
  },
  {
   "cell_type": "code",
   "execution_count": 10,
   "id": "cd0fd681-1100-48a2-8665-cf6d0e2697bc",
   "metadata": {},
   "outputs": [],
   "source": [
    "Q6_answer=\"Indentation is used to define a block of code in python\""
   ]
  },
  {
   "cell_type": "code",
   "execution_count": 11,
   "id": "51dcb052-d0e7-428d-9c4c-a40fa4087490",
   "metadata": {},
   "outputs": [],
   "source": [
    "Q7_answer=\"#\""
   ]
  },
  {
   "cell_type": "code",
   "execution_count": 12,
   "id": "0559e7cb-3983-4e88-bd5e-98a8dbddf705",
   "metadata": {},
   "outputs": [],
   "source": [
    "Q8_answer=\"sys. version\""
   ]
  },
  {
   "cell_type": "code",
   "execution_count": 13,
   "id": "254cb0be-8d05-46a5-a237-226f35b67b6d",
   "metadata": {},
   "outputs": [],
   "source": [
    "Q9_answer=\"lambda\""
   ]
  },
  {
   "cell_type": "code",
   "execution_count": 14,
   "id": "200ada78-4474-42a6-9d7d-b89afa36f168",
   "metadata": {},
   "outputs": [],
   "source": [
    "Q10_answer=\"preferred installer program\""
   ]
  },
  {
   "cell_type": "code",
   "execution_count": 15,
   "id": "2cd65865-19ba-41fa-8a68-f58b9fd4259a",
   "metadata": {},
   "outputs": [],
   "source": [
    "Q11_answer=\"print( ),type( )\""
   ]
  },
  {
   "cell_type": "code",
   "execution_count": 16,
   "id": "aa4e854d-1838-4f52-a7d7-e5e4374efed9",
   "metadata": {},
   "outputs": [],
   "source": [
    "Q12_answer=\"79 characters\""
   ]
  },
  {
   "cell_type": "code",
   "execution_count": 18,
   "id": "6b3c7fdd-545a-42ad-aa32-d6e1bf1e8429",
   "metadata": {},
   "outputs": [],
   "source": [
    "Q13_answer=\"Python is commonly used for developing websites and software, task automation, data analysis, and data visualization\""
   ]
  },
  {
   "cell_type": "code",
   "execution_count": 19,
   "id": "4942d9ca-c056-44b4-aede-764315d2a5f9",
   "metadata": {},
   "outputs": [],
   "source": [
    "Q14_answer=\"Python involves a private heap containing all Python objects and data structures\""
   ]
  },
  {
   "cell_type": "code",
   "execution_count": 22,
   "id": "117d9c32-d45e-4cbe-aa1e-bacc5eb157ec",
   "metadata": {},
   "outputs": [],
   "source": [
    "Q15_answer=\"Install the python.exe\""
   ]
  },
  {
   "cell_type": "code",
   "execution_count": null,
   "id": "7f3b16db-c675-4032-85bf-b3934b3692b9",
   "metadata": {},
   "outputs": [],
   "source": [
    "Q16_answer=\"the indentation in python is very important\""
   ]
  }
 ],
 "metadata": {
  "kernelspec": {
   "display_name": "Python 3 (ipykernel)",
   "language": "python",
   "name": "python3"
  },
  "language_info": {
   "codemirror_mode": {
    "name": "ipython",
    "version": 3
   },
   "file_extension": ".py",
   "mimetype": "text/x-python",
   "name": "python",
   "nbconvert_exporter": "python",
   "pygments_lexer": "ipython3",
   "version": "3.10.8"
  }
 },
 "nbformat": 4,
 "nbformat_minor": 5
}
